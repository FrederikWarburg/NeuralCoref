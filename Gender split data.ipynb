{
 "cells": [
  {
   "cell_type": "markdown",
   "metadata": {},
   "source": [
    "## Setting working directory"
   ]
  },
  {
   "cell_type": "code",
   "execution_count": 1,
   "metadata": {},
   "outputs": [
    {
     "data": {
      "text/plain": [
       "'C:\\\\Users\\\\Rune-\\\\OneDrive - Aarhus universitet\\\\Oecon\\\\8. semester\\\\Info 256\\\\Projekt\\\\NeuralCoref'"
      ]
     },
     "execution_count": 1,
     "metadata": {},
     "output_type": "execute_result"
    }
   ],
   "source": [
    "import os\n",
    "\n",
    "# Path to directory where you want working directory #\n",
    "path = 'C:/Users/Rune-/OneDrive - Aarhus universitet/Oecon/8. semester/Info 256/Projekt/NeuralCoref'\n",
    "\n",
    "# Setting the working directory\n",
    "os.chdir(path)\n",
    "\n",
    "# Checking the working directory\n",
    "os.getcwd()"
   ]
  },
  {
   "cell_type": "markdown",
   "metadata": {},
   "source": [
    "## Importing packages"
   ]
  },
  {
   "cell_type": "code",
   "execution_count": 2,
   "metadata": {},
   "outputs": [],
   "source": [
    "import pandas as pd\n",
    "import numpy as np\n",
    "from math import log\n",
    "from calculatescore import eval_gender\n",
    "from sklearn.metrics import f1_score, recall_score, precision_score"
   ]
  },
  {
   "cell_type": "markdown",
   "metadata": {},
   "source": [
    "## Loading data "
   ]
  },
  {
   "cell_type": "code",
   "execution_count": 5,
   "metadata": {
    "scrolled": true
   },
   "outputs": [
    {
     "data": {
      "text/html": [
       "<div>\n",
       "<style scoped>\n",
       "    .dataframe tbody tr th:only-of-type {\n",
       "        vertical-align: middle;\n",
       "    }\n",
       "\n",
       "    .dataframe tbody tr th {\n",
       "        vertical-align: top;\n",
       "    }\n",
       "\n",
       "    .dataframe thead th {\n",
       "        text-align: right;\n",
       "    }\n",
       "</style>\n",
       "<table border=\"1\" class=\"dataframe\">\n",
       "  <thead>\n",
       "    <tr style=\"text-align: right;\">\n",
       "      <th></th>\n",
       "      <th>Text</th>\n",
       "      <th>Pronoun</th>\n",
       "      <th>Pronoun-offset</th>\n",
       "      <th>A</th>\n",
       "      <th>A-offset</th>\n",
       "      <th>B</th>\n",
       "      <th>B-offset</th>\n",
       "      <th>URL</th>\n",
       "    </tr>\n",
       "    <tr>\n",
       "      <th>ID</th>\n",
       "      <th></th>\n",
       "      <th></th>\n",
       "      <th></th>\n",
       "      <th></th>\n",
       "      <th></th>\n",
       "      <th></th>\n",
       "      <th></th>\n",
       "      <th></th>\n",
       "    </tr>\n",
       "  </thead>\n",
       "  <tbody>\n",
       "    <tr>\n",
       "      <th>development-1</th>\n",
       "      <td>Zoe Telford -- played the police officer girlf...</td>\n",
       "      <td>her</td>\n",
       "      <td>274</td>\n",
       "      <td>Cheryl Cassidy</td>\n",
       "      <td>191</td>\n",
       "      <td>Pauline</td>\n",
       "      <td>207</td>\n",
       "      <td>http://en.wikipedia.org/wiki/List_of_Teachers_...</td>\n",
       "    </tr>\n",
       "    <tr>\n",
       "      <th>development-2</th>\n",
       "      <td>He grew up in Evanston, Illinois the second ol...</td>\n",
       "      <td>His</td>\n",
       "      <td>284</td>\n",
       "      <td>MacKenzie</td>\n",
       "      <td>228</td>\n",
       "      <td>Bernard Leach</td>\n",
       "      <td>251</td>\n",
       "      <td>http://en.wikipedia.org/wiki/Warren_MacKenzie</td>\n",
       "    </tr>\n",
       "    <tr>\n",
       "      <th>development-3</th>\n",
       "      <td>He had been reelected to Congress, but resigne...</td>\n",
       "      <td>his</td>\n",
       "      <td>265</td>\n",
       "      <td>Angeloz</td>\n",
       "      <td>173</td>\n",
       "      <td>De la Sota</td>\n",
       "      <td>246</td>\n",
       "      <td>http://en.wikipedia.org/wiki/Jos%C3%A9_Manuel_...</td>\n",
       "    </tr>\n",
       "    <tr>\n",
       "      <th>development-4</th>\n",
       "      <td>The current members of Crime have also perform...</td>\n",
       "      <td>his</td>\n",
       "      <td>321</td>\n",
       "      <td>Hell</td>\n",
       "      <td>174</td>\n",
       "      <td>Henry Rosenthal</td>\n",
       "      <td>336</td>\n",
       "      <td>http://en.wikipedia.org/wiki/Crime_(band)</td>\n",
       "    </tr>\n",
       "    <tr>\n",
       "      <th>development-5</th>\n",
       "      <td>Her Santa Fe Opera debut in 2005 was as Nuria ...</td>\n",
       "      <td>She</td>\n",
       "      <td>437</td>\n",
       "      <td>Kitty Oppenheimer</td>\n",
       "      <td>219</td>\n",
       "      <td>Rivera</td>\n",
       "      <td>294</td>\n",
       "      <td>http://en.wikipedia.org/wiki/Jessica_Rivera</td>\n",
       "    </tr>\n",
       "  </tbody>\n",
       "</table>\n",
       "</div>"
      ],
      "text/plain": [
       "                                                            Text Pronoun  \\\n",
       "ID                                                                         \n",
       "development-1  Zoe Telford -- played the police officer girlf...     her   \n",
       "development-2  He grew up in Evanston, Illinois the second ol...     His   \n",
       "development-3  He had been reelected to Congress, but resigne...     his   \n",
       "development-4  The current members of Crime have also perform...     his   \n",
       "development-5  Her Santa Fe Opera debut in 2005 was as Nuria ...     She   \n",
       "\n",
       "               Pronoun-offset                  A  A-offset                B  \\\n",
       "ID                                                                            \n",
       "development-1             274     Cheryl Cassidy       191          Pauline   \n",
       "development-2             284          MacKenzie       228    Bernard Leach   \n",
       "development-3             265            Angeloz       173       De la Sota   \n",
       "development-4             321               Hell       174  Henry Rosenthal   \n",
       "development-5             437  Kitty Oppenheimer       219           Rivera   \n",
       "\n",
       "               B-offset                                                URL  \n",
       "ID                                                                          \n",
       "development-1       207  http://en.wikipedia.org/wiki/List_of_Teachers_...  \n",
       "development-2       251      http://en.wikipedia.org/wiki/Warren_MacKenzie  \n",
       "development-3       246  http://en.wikipedia.org/wiki/Jos%C3%A9_Manuel_...  \n",
       "development-4       336          http://en.wikipedia.org/wiki/Crime_(band)  \n",
       "development-5       294        http://en.wikipedia.org/wiki/Jessica_Rivera  "
      ]
     },
     "execution_count": 5,
     "metadata": {},
     "output_type": "execute_result"
    }
   ],
   "source": [
    "df = pd.read_csv('data/gendered-pronoun-resolution/test_stage_1.tsv', sep = '\\t', index_col = 0)\n",
    "df.head()"
   ]
  },
  {
   "cell_type": "markdown",
   "metadata": {},
   "source": [
    "## Creating male and female dataset"
   ]
  },
  {
   "cell_type": "code",
   "execution_count": 6,
   "metadata": {},
   "outputs": [
    {
     "data": {
      "text/plain": [
       "{'He', 'Her', 'His', 'She', 'he', 'her', 'him', 'his', 'she'}"
      ]
     },
     "execution_count": 6,
     "metadata": {},
     "output_type": "execute_result"
    }
   ],
   "source": [
    "set(df['Pronoun'])"
   ]
  },
  {
   "cell_type": "code",
   "execution_count": 7,
   "metadata": {},
   "outputs": [],
   "source": [
    "# Male pronouns\n",
    "male_pn = ['He', 'His', 'he', 'him', 'his']\n",
    "\n",
    "# Female pronouns\n",
    "female_pn = ['Her', 'She', 'her', 'she']"
   ]
  },
  {
   "cell_type": "code",
   "execution_count": 8,
   "metadata": {},
   "outputs": [],
   "source": [
    "df_male = []\n",
    "\n",
    "df_female = []\n",
    "\n",
    "for i in range(df.shape[0]):\n",
    "    pn = df['Pronoun'][i]\n",
    "    if pn in male_pn:\n",
    "        df_male.append(df.iloc[i, :])\n",
    "    else:\n",
    "        df_female.append(df.iloc[i, :])\n",
    "\n",
    "df_male = pd.DataFrame(df_male)\n",
    "df_male.index.name = 'ID'\n",
    "\n",
    "df_female = pd.DataFrame(df_female)\n",
    "df_female.index.name = 'ID'"
   ]
  },
  {
   "cell_type": "code",
   "execution_count": 9,
   "metadata": {
    "scrolled": true
   },
   "outputs": [
    {
     "name": "stdout",
     "output_type": "stream",
     "text": [
      "Shape of male dataframe: (rows = 1000, cols = 8)\n",
      "Shape of female dataframe: (rows = 1000, cols = 8)\n"
     ]
    }
   ],
   "source": [
    "print('Shape of male dataframe: (rows = %s, cols = %s)' % df_male.shape)\n",
    "print('Shape of female dataframe: (rows = %s, cols = %s)' % df_female.shape)"
   ]
  },
  {
   "cell_type": "code",
   "execution_count": 10,
   "metadata": {
    "scrolled": true
   },
   "outputs": [
    {
     "data": {
      "text/html": [
       "<div>\n",
       "<style scoped>\n",
       "    .dataframe tbody tr th:only-of-type {\n",
       "        vertical-align: middle;\n",
       "    }\n",
       "\n",
       "    .dataframe tbody tr th {\n",
       "        vertical-align: top;\n",
       "    }\n",
       "\n",
       "    .dataframe thead th {\n",
       "        text-align: right;\n",
       "    }\n",
       "</style>\n",
       "<table border=\"1\" class=\"dataframe\">\n",
       "  <thead>\n",
       "    <tr style=\"text-align: right;\">\n",
       "      <th></th>\n",
       "      <th>Text</th>\n",
       "      <th>Pronoun</th>\n",
       "      <th>Pronoun-offset</th>\n",
       "      <th>A</th>\n",
       "      <th>A-offset</th>\n",
       "      <th>B</th>\n",
       "      <th>B-offset</th>\n",
       "      <th>URL</th>\n",
       "    </tr>\n",
       "    <tr>\n",
       "      <th>ID</th>\n",
       "      <th></th>\n",
       "      <th></th>\n",
       "      <th></th>\n",
       "      <th></th>\n",
       "      <th></th>\n",
       "      <th></th>\n",
       "      <th></th>\n",
       "      <th></th>\n",
       "    </tr>\n",
       "  </thead>\n",
       "  <tbody>\n",
       "    <tr>\n",
       "      <th>development-2</th>\n",
       "      <td>He grew up in Evanston, Illinois the second ol...</td>\n",
       "      <td>His</td>\n",
       "      <td>284</td>\n",
       "      <td>MacKenzie</td>\n",
       "      <td>228</td>\n",
       "      <td>Bernard Leach</td>\n",
       "      <td>251</td>\n",
       "      <td>http://en.wikipedia.org/wiki/Warren_MacKenzie</td>\n",
       "    </tr>\n",
       "    <tr>\n",
       "      <th>development-3</th>\n",
       "      <td>He had been reelected to Congress, but resigne...</td>\n",
       "      <td>his</td>\n",
       "      <td>265</td>\n",
       "      <td>Angeloz</td>\n",
       "      <td>173</td>\n",
       "      <td>De la Sota</td>\n",
       "      <td>246</td>\n",
       "      <td>http://en.wikipedia.org/wiki/Jos%C3%A9_Manuel_...</td>\n",
       "    </tr>\n",
       "    <tr>\n",
       "      <th>development-4</th>\n",
       "      <td>The current members of Crime have also perform...</td>\n",
       "      <td>his</td>\n",
       "      <td>321</td>\n",
       "      <td>Hell</td>\n",
       "      <td>174</td>\n",
       "      <td>Henry Rosenthal</td>\n",
       "      <td>336</td>\n",
       "      <td>http://en.wikipedia.org/wiki/Crime_(band)</td>\n",
       "    </tr>\n",
       "    <tr>\n",
       "      <th>development-7</th>\n",
       "      <td>Reb Chaim Yaakov's wife is the sister of Rabbi...</td>\n",
       "      <td>his</td>\n",
       "      <td>273</td>\n",
       "      <td>Reb Asher</td>\n",
       "      <td>152</td>\n",
       "      <td>Akiva Eiger</td>\n",
       "      <td>253</td>\n",
       "      <td>http://en.wikipedia.org/wiki/Asher_Arieli</td>\n",
       "    </tr>\n",
       "    <tr>\n",
       "      <th>development-8</th>\n",
       "      <td>Slant Magazine's Sal Cinquemani viewed the alb...</td>\n",
       "      <td>his</td>\n",
       "      <td>337</td>\n",
       "      <td>Greg Kot</td>\n",
       "      <td>173</td>\n",
       "      <td>Robert Christgau</td>\n",
       "      <td>377</td>\n",
       "      <td>http://en.wikipedia.org/wiki/The_Truth_About_L...</td>\n",
       "    </tr>\n",
       "  </tbody>\n",
       "</table>\n",
       "</div>"
      ],
      "text/plain": [
       "                                                            Text Pronoun  \\\n",
       "ID                                                                         \n",
       "development-2  He grew up in Evanston, Illinois the second ol...     His   \n",
       "development-3  He had been reelected to Congress, but resigne...     his   \n",
       "development-4  The current members of Crime have also perform...     his   \n",
       "development-7  Reb Chaim Yaakov's wife is the sister of Rabbi...     his   \n",
       "development-8  Slant Magazine's Sal Cinquemani viewed the alb...     his   \n",
       "\n",
       "               Pronoun-offset          A  A-offset                 B  \\\n",
       "ID                                                                     \n",
       "development-2             284  MacKenzie       228     Bernard Leach   \n",
       "development-3             265    Angeloz       173        De la Sota   \n",
       "development-4             321       Hell       174   Henry Rosenthal   \n",
       "development-7             273  Reb Asher       152       Akiva Eiger   \n",
       "development-8             337   Greg Kot       173  Robert Christgau   \n",
       "\n",
       "               B-offset                                                URL  \n",
       "ID                                                                          \n",
       "development-2       251      http://en.wikipedia.org/wiki/Warren_MacKenzie  \n",
       "development-3       246  http://en.wikipedia.org/wiki/Jos%C3%A9_Manuel_...  \n",
       "development-4       336          http://en.wikipedia.org/wiki/Crime_(band)  \n",
       "development-7       253          http://en.wikipedia.org/wiki/Asher_Arieli  \n",
       "development-8       377  http://en.wikipedia.org/wiki/The_Truth_About_L...  "
      ]
     },
     "execution_count": 10,
     "metadata": {},
     "output_type": "execute_result"
    }
   ],
   "source": [
    "df_male.head()"
   ]
  },
  {
   "cell_type": "markdown",
   "metadata": {},
   "source": [
    "### Find right answers for each gender and create dataset with right answers"
   ]
  },
  {
   "cell_type": "code",
   "execution_count": 11,
   "metadata": {
    "scrolled": true
   },
   "outputs": [
    {
     "data": {
      "text/html": [
       "<div>\n",
       "<style scoped>\n",
       "    .dataframe tbody tr th:only-of-type {\n",
       "        vertical-align: middle;\n",
       "    }\n",
       "\n",
       "    .dataframe tbody tr th {\n",
       "        vertical-align: top;\n",
       "    }\n",
       "\n",
       "    .dataframe thead th {\n",
       "        text-align: right;\n",
       "    }\n",
       "</style>\n",
       "<table border=\"1\" class=\"dataframe\">\n",
       "  <thead>\n",
       "    <tr style=\"text-align: right;\">\n",
       "      <th></th>\n",
       "      <th>A</th>\n",
       "      <th>B</th>\n",
       "      <th>NEITHER</th>\n",
       "    </tr>\n",
       "    <tr>\n",
       "      <th>ID</th>\n",
       "      <th></th>\n",
       "      <th></th>\n",
       "      <th></th>\n",
       "    </tr>\n",
       "  </thead>\n",
       "  <tbody>\n",
       "    <tr>\n",
       "      <th>development-1</th>\n",
       "      <td>1</td>\n",
       "      <td>0</td>\n",
       "      <td>0</td>\n",
       "    </tr>\n",
       "    <tr>\n",
       "      <th>development-2</th>\n",
       "      <td>1</td>\n",
       "      <td>0</td>\n",
       "      <td>0</td>\n",
       "    </tr>\n",
       "    <tr>\n",
       "      <th>development-3</th>\n",
       "      <td>0</td>\n",
       "      <td>1</td>\n",
       "      <td>0</td>\n",
       "    </tr>\n",
       "    <tr>\n",
       "      <th>development-4</th>\n",
       "      <td>0</td>\n",
       "      <td>1</td>\n",
       "      <td>0</td>\n",
       "    </tr>\n",
       "    <tr>\n",
       "      <th>development-5</th>\n",
       "      <td>0</td>\n",
       "      <td>1</td>\n",
       "      <td>0</td>\n",
       "    </tr>\n",
       "  </tbody>\n",
       "</table>\n",
       "</div>"
      ],
      "text/plain": [
       "               A  B  NEITHER\n",
       "ID                          \n",
       "development-1  1  0        0\n",
       "development-2  1  0        0\n",
       "development-3  0  1        0\n",
       "development-4  0  1        0\n",
       "development-5  0  1        0"
      ]
     },
     "execution_count": 11,
     "metadata": {},
     "output_type": "execute_result"
    }
   ],
   "source": [
    "df_ans = pd.read_csv('data/right_answers.csv', sep = ',', index_col = 0)\n",
    "df_ans.head()"
   ]
  },
  {
   "cell_type": "code",
   "execution_count": 12,
   "metadata": {},
   "outputs": [],
   "source": [
    "df_male_ans = df_ans.loc[list(df_male.index), :]\n",
    "df_male_ans.to_csv('data/male_ans.csv')\n",
    "\n",
    "df_female_ans = df_ans.loc[list(df_female.index), :]\n",
    "df_female_ans.to_csv('data/female_ans.csv')"
   ]
  },
  {
   "cell_type": "markdown",
   "metadata": {},
   "source": [
    "## Generate same vote datasets"
   ]
  },
  {
   "cell_type": "code",
   "execution_count": 38,
   "metadata": {},
   "outputs": [],
   "source": [
    "# Always predict A\n",
    "data = np.zeros((1000,3),dtype=int)\n",
    "data[:,0] = np.ones((1000),dtype=int) # always guess on A\n",
    "predictions = pd.DataFrame(data, columns=['A','B','NEITHER'])\n",
    "predictions.to_csv('data/pred_A_half.csv')\n",
    "\n",
    "# Always predict B\n",
    "data = np.zeros((1000,3),dtype=int)\n",
    "data[:,1] = np.ones((1000),dtype=int) # always guess on A\n",
    "predictions = pd.DataFrame(data, columns=['A','B','NEITHER'])\n",
    "predictions.to_csv('data/pred_B_half.csv')\n",
    "\n",
    "# Always predict Neither \n",
    "data = np.zeros((1000,3),dtype=int)\n",
    "data[:,2] = np.ones((1000),dtype=int) # always guess on A\n",
    "predictions = pd.DataFrame(data, columns=['A','B','NEITHER'])\n",
    "predictions.to_csv('data/pred_N_half.csv')"
   ]
  },
  {
   "cell_type": "markdown",
   "metadata": {},
   "source": [
    "## Calculate precision, recall and F1 scores"
   ]
  },
  {
   "cell_type": "markdown",
   "metadata": {},
   "source": [
    "### Only A answers"
   ]
  },
  {
   "cell_type": "code",
   "execution_count": 39,
   "metadata": {
    "scrolled": true
   },
   "outputs": [
    {
     "name": "stdout",
     "output_type": "stream",
     "text": [
      "Male precision: A = 0.438, B = 0.0, Neither = 0.0\n",
      "Male recall: A = 1.0, B = 0.0, Neither = 0.0\n",
      "Male F1: A = 0.6092, B = 0.0, Neither = 0.0 \n",
      "\n",
      "Female precision: A = 0.436, B = 0.0, Neither = 0.0\n",
      "Female recall: A = 1.0, B = 0.0, Neither = 0.0\n",
      "Female F1: A = 0.6072, B = 0.0, Neither = 0.0\n"
     ]
    }
   ],
   "source": [
    "# Male #\n",
    "precision_m, recall_m, f1_m = evaluate('data/male_ans.csv', 'data/pred_A_half.csv')\n",
    "# Run twice to avoid error\n",
    "print('Male precision: A = %s, B = %s, Neither = %s' % tuple(precision_m.round(4)))\n",
    "print('Male recall: A = %s, B = %s, Neither = %s' % tuple(recall_m))\n",
    "print('Male F1: A = %s, B = %s, Neither = %s \\n' % tuple(f1_m.round(4)))\n",
    "\n",
    "# Female #\n",
    "precision_fm, recall_fm, f1_fm = evaluate('data/female_ans.csv', 'data/pred_A_half.csv')\n",
    "print('Female precision: A = %s, B = %s, Neither = %s' % tuple(precision_fm))\n",
    "print('Female recall: A = %s, B = %s, Neither = %s' % tuple(recall_fm))\n",
    "print('Female F1: A = %s, B = %s, Neither = %s' % tuple(f1_fm.round(4)))"
   ]
  },
  {
   "cell_type": "markdown",
   "metadata": {},
   "source": [
    "### Only B answers"
   ]
  },
  {
   "cell_type": "code",
   "execution_count": 42,
   "metadata": {},
   "outputs": [
    {
     "name": "stdout",
     "output_type": "stream",
     "text": [
      "Male precision: A = 0.0, B = 0.459, Neither = 0.0\n",
      "Male recall: A = 0.0, B = 1.0, Neither = 0.0\n",
      "Male F1: A = 0.0, B = 0.6292, Neither = 0.0 \n",
      "\n",
      "Female precision: A = 0.0, B = 0.466, Neither = 0.0\n",
      "Female recall: A = 0.0, B = 1.0, Neither = 0.0\n",
      "Female F1: A = 0.0, B = 0.6357, Neither = 0.0\n"
     ]
    }
   ],
   "source": [
    "# Male #\n",
    "precision_m, recall_m, f1_m = evaluate('data/male_ans.csv', 'data/pred_B_half.csv')\n",
    "# Run twice to avoid error\n",
    "print('Male precision: A = %s, B = %s, Neither = %s' % tuple(precision_m.round(4)))\n",
    "print('Male recall: A = %s, B = %s, Neither = %s' % tuple(recall_m))\n",
    "print('Male F1: A = %s, B = %s, Neither = %s \\n' % tuple(f1_m.round(4)))\n",
    "\n",
    "# Female #\n",
    "precision_fm, recall_fm, f1_fm = evaluate('data/female_ans.csv', 'data/pred_B_half.csv')\n",
    "print('Female precision: A = %s, B = %s, Neither = %s' % tuple(precision_fm))\n",
    "print('Female recall: A = %s, B = %s, Neither = %s' % tuple(recall_fm))\n",
    "print('Female F1: A = %s, B = %s, Neither = %s' % tuple(f1_fm.round(4)))"
   ]
  },
  {
   "cell_type": "markdown",
   "metadata": {},
   "source": [
    "### Only Neither answers"
   ]
  },
  {
   "cell_type": "code",
   "execution_count": 43,
   "metadata": {},
   "outputs": [
    {
     "name": "stdout",
     "output_type": "stream",
     "text": [
      "Male precision: A = 0.0, B = 0.0, Neither = 0.103\n",
      "Male recall: A = 0.0, B = 0.0, Neither = 1.0\n",
      "Male F1: A = 0.0, B = 0.0, Neither = 0.1868 \n",
      "\n",
      "Female precision: A = 0.0, B = 0.0, Neither = 0.098\n",
      "Female recall: A = 0.0, B = 0.0, Neither = 1.0\n",
      "Female F1: A = 0.0, B = 0.0, Neither = 0.1785\n"
     ]
    }
   ],
   "source": [
    "# Male #\n",
    "precision_m, recall_m, f1_m = evaluate('data/male_ans.csv', 'data/pred_N_half.csv')\n",
    "# Run twice to avoid error\n",
    "print('Male precision: A = %s, B = %s, Neither = %s' % tuple(precision_m.round(4)))\n",
    "print('Male recall: A = %s, B = %s, Neither = %s' % tuple(recall_m))\n",
    "print('Male F1: A = %s, B = %s, Neither = %s \\n' % tuple(f1_m.round(4)))\n",
    "\n",
    "# Female #\n",
    "precision_fm, recall_fm, f1_fm = evaluate('data/female_ans.csv', 'data/pred_N_half.csv')\n",
    "print('Female precision: A = %s, B = %s, Neither = %s' % tuple(precision_fm))\n",
    "print('Female recall: A = %s, B = %s, Neither = %s' % tuple(recall_fm))\n",
    "print('Female F1: A = %s, B = %s, Neither = %s' % tuple(f1_fm.round(4)))"
   ]
  },
  {
   "cell_type": "markdown",
   "metadata": {},
   "source": [
    "## Using the made function"
   ]
  },
  {
   "cell_type": "code",
   "execution_count": 3,
   "metadata": {},
   "outputs": [],
   "source": [
    "# Gold path\n",
    "path_gold = 'data/right_answers.csv'\n",
    "\n",
    "# Path full data #\n",
    "path_full = 'data/gendered-pronoun-resolution/test_stage_1.tsv'\n",
    "df = pd.read_csv(path_full, sep = '\\t', index_col = 0) \n",
    "\n",
    "# Create predictions #\n",
    "# Always predict A\n",
    "data = np.zeros((2000,3),dtype=int)\n",
    "data[:,0] = np.ones((2000),dtype=int) # always guess on A\n",
    "predictions = pd.DataFrame(data, columns=['A','B','NEITHER'], index = list(df.index))\n",
    "predictions.to_csv('data/pred_one_class.csv')\n",
    "path_pred = 'data/pred_one_class.csv'\n"
   ]
  },
  {
   "cell_type": "code",
   "execution_count": 5,
   "metadata": {},
   "outputs": [
    {
     "name": "stdout",
     "output_type": "stream",
     "text": [
      "Male precision: A = 0.438, B = 0.0, Neither = 0.0\n",
      "Male recall: A = 1.0, B = 0.0, Neither = 0.0\n",
      "Male F1: A = 0.6092, B = 0.0, Neither = 0.0 \n",
      "\n",
      "Female precision: A = 0.436, B = 0.0, Neither = 0.0\n",
      "Female recall: A = 1.0, B = 0.0, Neither = 0.0\n",
      "Female F1: A = 0.6072, B = 0.0, Neither = 0.0\n"
     ]
    }
   ],
   "source": [
    "male_sc, female_sc = eval_gender(path_gold, path_pred, path_full)"
   ]
  },
  {
   "cell_type": "code",
   "execution_count": null,
   "metadata": {},
   "outputs": [],
   "source": []
  }
 ],
 "metadata": {
  "kernelspec": {
   "display_name": "neuralcoref",
   "language": "python",
   "name": "neuralcoref"
  },
  "language_info": {
   "codemirror_mode": {
    "name": "ipython",
    "version": 3
   },
   "file_extension": ".py",
   "mimetype": "text/x-python",
   "name": "python",
   "nbconvert_exporter": "python",
   "pygments_lexer": "ipython3",
   "version": "3.6.1"
  }
 },
 "nbformat": 4,
 "nbformat_minor": 2
}
