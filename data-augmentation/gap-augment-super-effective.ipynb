{
 "cells": [
  {
   "cell_type": "code",
   "execution_count": 2,
   "metadata": {},
   "outputs": [],
   "source": [
    "import numpy as np # linear algebra\n",
    "import pandas as pd # data processing, CSV file I/O (e.g. pd.read_csv)\n",
    "\n",
    "import os\n",
    "import gc"
   ]
  },
  {
   "cell_type": "code",
   "execution_count": 3,
   "metadata": {},
   "outputs": [],
   "source": [
    "DIR_PATH = os.getcwd()\n",
    "ROOT_PATH = os.path.abspath(os.path.join(DIR_PATH, os.pardir))\n",
    "DATA_ROOT = os.path.join(ROOT_PATH, 'data')\n",
    "GAP_DATA_FOLDER = os.path.join(DATA_ROOT, 'gap')\n",
    "SUB_DATA_FOLDER = os.path.join(DATA_ROOT, 'gendered-pronoun-resolution')\n",
    "#FAST_TEXT_DATA_FOLDER = os.path.join(DATA_ROOT, 'fasttext-crawl-300d-2M.vec')"
   ]
  },
  {
   "cell_type": "code",
   "execution_count": 4,
   "metadata": {},
   "outputs": [],
   "source": [
    "train_df_path = os.path.join(GAP_DATA_FOLDER, 'gap-development.tsv')\n",
    "dev_df_path = os.path.join(GAP_DATA_FOLDER, 'gap-validation.tsv')\n",
    "test_df_path = os.path.join(GAP_DATA_FOLDER, 'gap-test.tsv')\n",
    "\n",
    "train_df = pd.read_csv(train_df_path, sep='\\t')\n",
    "dev_df = pd.read_csv(dev_df_path, sep='\\t')\n",
    "test_df = pd.read_csv(test_df_path, sep='\\t')"
   ]
  },
  {
   "cell_type": "code",
   "execution_count": 5,
   "metadata": {},
   "outputs": [
    {
     "data": {
      "text/html": [
       "<div>\n",
       "<style scoped>\n",
       "    .dataframe tbody tr th:only-of-type {\n",
       "        vertical-align: middle;\n",
       "    }\n",
       "\n",
       "    .dataframe tbody tr th {\n",
       "        vertical-align: top;\n",
       "    }\n",
       "\n",
       "    .dataframe thead th {\n",
       "        text-align: right;\n",
       "    }\n",
       "</style>\n",
       "<table border=\"1\" class=\"dataframe\">\n",
       "  <thead>\n",
       "    <tr style=\"text-align: right;\">\n",
       "      <th></th>\n",
       "      <th>ID</th>\n",
       "      <th>Text</th>\n",
       "      <th>Pronoun</th>\n",
       "      <th>Pronoun-offset</th>\n",
       "      <th>A</th>\n",
       "      <th>A-offset</th>\n",
       "      <th>A-coref</th>\n",
       "      <th>B</th>\n",
       "      <th>B-offset</th>\n",
       "      <th>B-coref</th>\n",
       "      <th>URL</th>\n",
       "    </tr>\n",
       "  </thead>\n",
       "  <tbody>\n",
       "    <tr>\n",
       "      <th>0</th>\n",
       "      <td>development-1</td>\n",
       "      <td>Zoe Telford -- played the police officer girlf...</td>\n",
       "      <td>her</td>\n",
       "      <td>274</td>\n",
       "      <td>Cheryl Cassidy</td>\n",
       "      <td>191</td>\n",
       "      <td>True</td>\n",
       "      <td>Pauline</td>\n",
       "      <td>207</td>\n",
       "      <td>False</td>\n",
       "      <td>http://en.wikipedia.org/wiki/List_of_Teachers_...</td>\n",
       "    </tr>\n",
       "    <tr>\n",
       "      <th>1</th>\n",
       "      <td>development-2</td>\n",
       "      <td>He grew up in Evanston, Illinois the second ol...</td>\n",
       "      <td>His</td>\n",
       "      <td>284</td>\n",
       "      <td>MacKenzie</td>\n",
       "      <td>228</td>\n",
       "      <td>True</td>\n",
       "      <td>Bernard Leach</td>\n",
       "      <td>251</td>\n",
       "      <td>False</td>\n",
       "      <td>http://en.wikipedia.org/wiki/Warren_MacKenzie</td>\n",
       "    </tr>\n",
       "    <tr>\n",
       "      <th>2</th>\n",
       "      <td>development-3</td>\n",
       "      <td>He had been reelected to Congress, but resigne...</td>\n",
       "      <td>his</td>\n",
       "      <td>265</td>\n",
       "      <td>Angeloz</td>\n",
       "      <td>173</td>\n",
       "      <td>False</td>\n",
       "      <td>De la Sota</td>\n",
       "      <td>246</td>\n",
       "      <td>True</td>\n",
       "      <td>http://en.wikipedia.org/wiki/Jos%C3%A9_Manuel_...</td>\n",
       "    </tr>\n",
       "    <tr>\n",
       "      <th>3</th>\n",
       "      <td>development-4</td>\n",
       "      <td>The current members of Crime have also perform...</td>\n",
       "      <td>his</td>\n",
       "      <td>321</td>\n",
       "      <td>Hell</td>\n",
       "      <td>174</td>\n",
       "      <td>False</td>\n",
       "      <td>Henry Rosenthal</td>\n",
       "      <td>336</td>\n",
       "      <td>True</td>\n",
       "      <td>http://en.wikipedia.org/wiki/Crime_(band)</td>\n",
       "    </tr>\n",
       "    <tr>\n",
       "      <th>4</th>\n",
       "      <td>development-5</td>\n",
       "      <td>Her Santa Fe Opera debut in 2005 was as Nuria ...</td>\n",
       "      <td>She</td>\n",
       "      <td>437</td>\n",
       "      <td>Kitty Oppenheimer</td>\n",
       "      <td>219</td>\n",
       "      <td>False</td>\n",
       "      <td>Rivera</td>\n",
       "      <td>294</td>\n",
       "      <td>True</td>\n",
       "      <td>http://en.wikipedia.org/wiki/Jessica_Rivera</td>\n",
       "    </tr>\n",
       "  </tbody>\n",
       "</table>\n",
       "</div>"
      ],
      "text/plain": [
       "              ID                                               Text Pronoun  \\\n",
       "0  development-1  Zoe Telford -- played the police officer girlf...     her   \n",
       "1  development-2  He grew up in Evanston, Illinois the second ol...     His   \n",
       "2  development-3  He had been reelected to Congress, but resigne...     his   \n",
       "3  development-4  The current members of Crime have also perform...     his   \n",
       "4  development-5  Her Santa Fe Opera debut in 2005 was as Nuria ...     She   \n",
       "\n",
       "   Pronoun-offset                  A  A-offset  A-coref                B  \\\n",
       "0             274     Cheryl Cassidy       191     True          Pauline   \n",
       "1             284          MacKenzie       228     True    Bernard Leach   \n",
       "2             265            Angeloz       173    False       De la Sota   \n",
       "3             321               Hell       174    False  Henry Rosenthal   \n",
       "4             437  Kitty Oppenheimer       219    False           Rivera   \n",
       "\n",
       "   B-offset  B-coref                                                URL  \n",
       "0       207    False  http://en.wikipedia.org/wiki/List_of_Teachers_...  \n",
       "1       251    False      http://en.wikipedia.org/wiki/Warren_MacKenzie  \n",
       "2       246     True  http://en.wikipedia.org/wiki/Jos%C3%A9_Manuel_...  \n",
       "3       336     True          http://en.wikipedia.org/wiki/Crime_(band)  \n",
       "4       294     True        http://en.wikipedia.org/wiki/Jessica_Rivera  "
      ]
     },
     "execution_count": 5,
     "metadata": {},
     "output_type": "execute_result"
    }
   ],
   "source": [
    "train_df.head()"
   ]
  },
  {
   "cell_type": "code",
   "execution_count": 6,
   "metadata": {},
   "outputs": [],
   "source": [
    "# Initialize spaCy model\n",
    "from spacy.lang.en import English\n",
    "from spacy.pipeline import DependencyParser\n",
    "import spacy\n",
    "from nltk import Tree\n",
    "\n",
    "spacy_model = \"en_core_web_lg\"\n",
    "nlp = spacy.load(spacy_model)"
   ]
  },
  {
   "cell_type": "code",
   "execution_count": 7,
   "metadata": {},
   "outputs": [],
   "source": [
    "# Define gendered pronouns\n",
    "male_PRON = [\"He\", \"Him\", \"His\", \"Himself\", \"he\", \"him\", \"his\", \"himself\"]\n",
    "female_PRON = [\"She\", \"Her\", \"Hers\", \"Herself\", \"she\", \"her\", \"hers\", \"herself\"]\n",
    "neutral_PRON = [\"It\", \"It\", \"Its\", \"Itself\", \"it\", \"it\", \"it\",  \"itself\"]\n",
    "male_DET = [\"His\", \"his\"]\n",
    "female_DET = [\"Her\", \"her\"]\n",
    "neutral_DET = [\"Its\", \"its\"]\n",
    "\n",
    "all_gender_prons = [\"he\", \"him\", \"his\", \"himself\", \"she\", \"her\", \"hers\", \"herself\", \"his\", \"her\"]\n",
    "\n",
    "# Define punctuation\n",
    "punctuation = [r\".\", r\",\", r\":\", r\";\", r\"?\", r\"!\", r\"'s\"]"
   ]
  },
  {
   "cell_type": "code",
   "execution_count": 8,
   "metadata": {},
   "outputs": [],
   "source": [
    "# For a term, check if it needs replacing, then replace\n",
    "\n",
    "def find_neutral_term(term, pos):    \n",
    "    if pos == \"PRON\":\n",
    "        if term in male_PRON:\n",
    "            index = male_PRON.index(term)\n",
    "        elif term in female_PRON:\n",
    "            index = female_PRON.index(term)\n",
    "        else:\n",
    "            return term # Failproof\n",
    "        neutral_term = neutral_PRON[index]\n",
    "        # Error here, because index not assigned.\n",
    "        # Then, must have word in all_gender_prons but not in male_PRON or female_PRON?\n",
    "        # Answer: (fe)male personal pronoun has mistakenly been labeled as \"DET\"\n",
    "        \n",
    "    elif pos == \"DET\":\n",
    "        if term in male_DET:\n",
    "            index = male_DET.index(term)\n",
    "        elif term in female_DET:\n",
    "            index = female_DET.index(term)\n",
    "        else:\n",
    "            return term # Failproof\n",
    "        neutral_term = neutral_DET[index]\n",
    "    # Potential else-clause: \"She\" is observed to have \"PRP\" pos label. Ignore\n",
    "    else:\n",
    "        return term\n",
    "    return neutral_term"
   ]
  },
  {
   "cell_type": "code",
   "execution_count": 9,
   "metadata": {},
   "outputs": [],
   "source": [
    "# Find new character offset, given text, mention and old character offset\n",
    "\n",
    "def get_char_offset(text, mention, offset):\n",
    "    left_start = offset\n",
    "    right_start = offset\n",
    "    left = True\n",
    "    index = -1\n",
    "    \n",
    "    while index == -1:\n",
    "        if left:\n",
    "            index = text.find(mention, left_start)\n",
    "            left_start -= 1\n",
    "            left = False\n",
    "        else:\n",
    "            index = text.find(mention, right_start)\n",
    "            right_start += 1\n",
    "            left = True\n",
    "    return index"
   ]
  },
  {
   "cell_type": "code",
   "execution_count": 10,
   "metadata": {},
   "outputs": [],
   "source": [
    "# Process spaCy text into neutralized format\n",
    "\n",
    "def neutralize_text(nlp_doc, pronoun_span):\n",
    "    new_text = \"\"\n",
    "    pronoun = \"\"\n",
    "    for token_idx, token in enumerate(nlp_doc):\n",
    "        if token.lower_ in all_gender_prons:\n",
    "            new_token = find_neutral_term(token.text, token.pos_)\n",
    "        else:\n",
    "            new_token = token.text\n",
    "        new_text += new_token\n",
    "        if len(token.text) != len(token.text_with_ws):\n",
    "            new_text += \" \"\n",
    "        if token_idx == pronoun_span:\n",
    "            pronoun = new_token\n",
    "    return new_text, pronoun"
   ]
  },
  {
   "cell_type": "code",
   "execution_count": 11,
   "metadata": {},
   "outputs": [],
   "source": [
    "# Get span (word offset) from char offset\n",
    "\n",
    "def get_span_from_offset(nlp_doc, text, offset):   \n",
    "    for token in spans(nlp_doc, text):\n",
    "        \n",
    "        if offset == token[2]:\n",
    "            return token[0]\n",
    "\n",
    "def spans(nlp_doc, text):\n",
    "    offset = 0\n",
    "    for token_count, token in enumerate(nlp_doc):\n",
    "        token = str(token)\n",
    "        offset = text.find(token, offset)\n",
    "        yield token_count, token, offset, offset+len(token)\n",
    "        offset += len(token)"
   ]
  },
  {
   "cell_type": "code",
   "execution_count": 14,
   "metadata": {},
   "outputs": [],
   "source": [
    "# Iterate through dataframe, update text, pronoun and all three offsets\n",
    "\n",
    "def augment_df(df):\n",
    "    for row_idx in range(len(df)):\n",
    "        text = df.loc[row_idx, \"Text\"]\n",
    "        nlp_doc = nlp(text) # Call this just once per row in df\n",
    "        \n",
    "        pronoun_offset = df.loc[row_idx, \"Pronoun-offset\"]\n",
    "        pronoun_span = get_span_from_offset(nlp_doc, text, pronoun_offset)\n",
    "        text, pronoun = neutralize_text(nlp_doc, pronoun_span)\n",
    "        df.loc[row_idx, \"Text\"] = text\n",
    "        df.loc[row_idx, \"Pronoun\"] = pronoun\n",
    "        \n",
    "        # Update character offsets\n",
    "        mentions = [\"Pronoun\", \"A\", \"B\"]\n",
    "        mention_offsets = [\"Pronoun-offset\", \"A-offset\", \"B-offset\"]\n",
    "        for idx in range(len(mentions)):\n",
    "            mention = str( df.loc[row_idx, mentions[idx]] )\n",
    "            offset = df.loc[row_idx, mention_offsets[idx]]\n",
    "            df.loc[row_idx, mention_offsets[idx]] = get_char_offset(text, mention, offset)\n",
    "            \n",
    "        #if not row_idx % 50:\n",
    "        #    print(\"Progress: %i / %i documents\" % (row_idx, len(df)))\n",
    "    print(\"Dataframe successfully augmented.\")\n",
    "    return df"
   ]
  },
  {
   "cell_type": "code",
   "execution_count": 131,
   "metadata": {},
   "outputs": [
    {
     "name": "stdout",
     "output_type": "stream",
     "text": [
      "Dataframe successfully augmented.\n",
      "Dataframe successfully augmented.\n",
      "Dataframe successfully augmented.\n"
     ]
    }
   ],
   "source": [
    "train_ntr_df = augment_df(train_df.copy()) # Takes 1 min 20 s\n",
    "dev_ntr_df = augment_df(dev_df.copy()) # Takes in 18 s\n",
    "test_ntr_df = augment_df(test_df.copy()) # Takes 1 min 20 s"
   ]
  },
  {
   "cell_type": "code",
   "execution_count": 18,
   "metadata": {},
   "outputs": [],
   "source": [
    "def compare_mentions(df, num_docs):\n",
    "    for row in range(num_docs):\n",
    "        text = df.loc[row, \"Text\"]\n",
    "        pronoun = df.loc[row, \"Pronoun\"]\n",
    "        a = df.loc[row, \"A\"]\n",
    "        b = df.loc[row, \"B\"]\n",
    "        text_pronoun = get_mention(text, df.loc[row, \"Pronoun-offset\"])\n",
    "        text_a = get_mention(text, df.loc[row, \"A-offset\"])\n",
    "        text_b = get_mention(text, df.loc[row, \"B-offset\"])   \n",
    "        \n",
    "        print(\"Correct mentions:\", pronoun, a, b, \", and in text:\", text_pronoun, text_a, text_b)\n",
    "        \n",
    "def get_mention(text, offset):\n",
    "    mention = \"\"\n",
    "    character = text[offset]\n",
    "    while character not in punctuation and character != \" \":\n",
    "        mention += character\n",
    "        offset += 1\n",
    "        character = text[offset]\n",
    "    return mention"
   ]
  },
  {
   "cell_type": "code",
   "execution_count": 19,
   "metadata": {},
   "outputs": [
    {
     "name": "stdout",
     "output_type": "stream",
     "text": [
      "Correct mentions: it Jose de Venecia Jr Abalos , and in text: it Jose Abalos\n",
      "Correct mentions: It Ellen Kathleen , and in text: It Ellen Kathleen\n",
      "Correct mentions: its Jason Scott Lee Danny , and in text: its Jason Danny\n",
      "Correct mentions: it Reucassel Debnam , and in text: it Reucassel Debnam\n",
      "Correct mentions: it Finch Hatton Beryl Markham , and in text: it Finch Beryl\n",
      "Correct mentions: it James Randi Jos* Alvarez , and in text: it James Jos*\n",
      "Correct mentions: It von Sanders Faik Pasha , and in text: It von Faik\n",
      "Correct mentions: its Colin Jake Burns , and in text: its Colin Jake\n",
      "Correct mentions: it Scott Cowan , and in text: it Scott Cowan\n",
      "Correct mentions: its Beverley Callard Liz , and in text: its Beverley Liz\n"
     ]
    }
   ],
   "source": [
    "compare_mentions(dev_ntr_df, 10)"
   ]
  },
  {
   "cell_type": "code",
   "execution_count": 132,
   "metadata": {},
   "outputs": [],
   "source": [
    "train_ntr_df.to_csv('../data/gap/gap-development-neutral-it.tsv', sep='\\t', index=False)\n",
    "dev_ntr_df.to_csv('../data/gap/gap-validation-neutral-it.tsv', sep='\\t', index=False)\n",
    "test_ntr_df.to_csv('../data/gap/gap-test-neutral-it.tsv', sep='\\t', index=False)"
   ]
  },
  {
   "cell_type": "code",
   "execution_count": 90,
   "metadata": {},
   "outputs": [
    {
     "name": "stdout",
     "output_type": "stream",
     "text": [
      "hers PRON\n",
      "hers PRON\n"
     ]
    }
   ],
   "source": [
    "df = test_df\n",
    "for row_idx in range(len(df)):\n",
    "    female_pronouns = [\"her\", \"hers\"]\n",
    "    text = df.loc[row_idx, \"Text\"]\n",
    "    doc = nlp(text)\n",
    "    for token in doc:\n",
    "        #if token.lower_ in female_pronouns:\n",
    "        if token.lower_ == \"hers\":\n",
    "            print(token.text, token.pos_)"
   ]
  },
  {
   "cell_type": "code",
   "execution_count": null,
   "metadata": {},
   "outputs": [],
   "source": []
  }
 ],
 "metadata": {
  "kernelspec": {
   "display_name": "Python 3",
   "language": "python",
   "name": "python3"
  },
  "language_info": {
   "codemirror_mode": {
    "name": "ipython",
    "version": 3
   },
   "file_extension": ".py",
   "mimetype": "text/x-python",
   "name": "python",
   "nbconvert_exporter": "python",
   "pygments_lexer": "ipython3",
   "version": "3.6.5"
  }
 },
 "nbformat": 4,
 "nbformat_minor": 2
}
