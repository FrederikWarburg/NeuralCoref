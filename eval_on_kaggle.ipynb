{
 "cells": [
  {
   "cell_type": "markdown",
   "metadata": {},
   "source": [
    "# TODO\n",
    "\n",
    "* Write method to present data\n",
    "* "
   ]
  },
  {
   "cell_type": "code",
   "execution_count": 15,
   "metadata": {},
   "outputs": [
    {
     "name": "stderr",
     "output_type": "stream",
     "text": [
      "/Users/frederikwarburg/anaconda3/envs/neuralcoref/lib/python3.6/site-packages/torch/nn/modules/rnn.py:38: UserWarning: dropout option adds dropout after all but last recurrent layer, so non-zero dropout expects num_layers greater than 1, but got dropout=0.2 and num_layers=1\n",
      "  \"num_layers={}\".format(dropout, num_layers))\n"
     ]
    }
   ],
   "source": [
    "from allennlp.predictors.predictor import Predictor\n",
    "predictor = Predictor.from_path(\"https://s3-us-west-2.amazonaws.com/allennlp/models/coref-model-2018.02.05.tar.gz\")"
   ]
  },
  {
   "cell_type": "code",
   "execution_count": 13,
   "metadata": {},
   "outputs": [],
   "source": [
    "import pandas as pd\n",
    "import numpy as np\n",
    "from nltk.tokenize import word_tokenize"
   ]
  },
  {
   "cell_type": "code",
   "execution_count": 14,
   "metadata": {},
   "outputs": [
    {
     "data": {
      "text/html": [
       "<div>\n",
       "<style scoped>\n",
       "    .dataframe tbody tr th:only-of-type {\n",
       "        vertical-align: middle;\n",
       "    }\n",
       "\n",
       "    .dataframe tbody tr th {\n",
       "        vertical-align: top;\n",
       "    }\n",
       "\n",
       "    .dataframe thead th {\n",
       "        text-align: right;\n",
       "    }\n",
       "</style>\n",
       "<table border=\"1\" class=\"dataframe\">\n",
       "  <thead>\n",
       "    <tr style=\"text-align: right;\">\n",
       "      <th></th>\n",
       "      <th>ID</th>\n",
       "      <th>Text</th>\n",
       "      <th>Pronoun</th>\n",
       "      <th>Pronoun-offset</th>\n",
       "      <th>A</th>\n",
       "      <th>A-offset</th>\n",
       "      <th>B</th>\n",
       "      <th>B-offset</th>\n",
       "      <th>URL</th>\n",
       "    </tr>\n",
       "  </thead>\n",
       "  <tbody>\n",
       "    <tr>\n",
       "      <th>0</th>\n",
       "      <td>development-1</td>\n",
       "      <td>Zoe Telford -- played the police officer girlf...</td>\n",
       "      <td>her</td>\n",
       "      <td>274</td>\n",
       "      <td>Cheryl Cassidy</td>\n",
       "      <td>191</td>\n",
       "      <td>Pauline</td>\n",
       "      <td>207</td>\n",
       "      <td>http://en.wikipedia.org/wiki/List_of_Teachers_...</td>\n",
       "    </tr>\n",
       "    <tr>\n",
       "      <th>1</th>\n",
       "      <td>development-2</td>\n",
       "      <td>He grew up in Evanston, Illinois the second ol...</td>\n",
       "      <td>His</td>\n",
       "      <td>284</td>\n",
       "      <td>MacKenzie</td>\n",
       "      <td>228</td>\n",
       "      <td>Bernard Leach</td>\n",
       "      <td>251</td>\n",
       "      <td>http://en.wikipedia.org/wiki/Warren_MacKenzie</td>\n",
       "    </tr>\n",
       "    <tr>\n",
       "      <th>2</th>\n",
       "      <td>development-3</td>\n",
       "      <td>He had been reelected to Congress, but resigne...</td>\n",
       "      <td>his</td>\n",
       "      <td>265</td>\n",
       "      <td>Angeloz</td>\n",
       "      <td>173</td>\n",
       "      <td>De la Sota</td>\n",
       "      <td>246</td>\n",
       "      <td>http://en.wikipedia.org/wiki/Jos%C3%A9_Manuel_...</td>\n",
       "    </tr>\n",
       "    <tr>\n",
       "      <th>3</th>\n",
       "      <td>development-4</td>\n",
       "      <td>The current members of Crime have also perform...</td>\n",
       "      <td>his</td>\n",
       "      <td>321</td>\n",
       "      <td>Hell</td>\n",
       "      <td>174</td>\n",
       "      <td>Henry Rosenthal</td>\n",
       "      <td>336</td>\n",
       "      <td>http://en.wikipedia.org/wiki/Crime_(band)</td>\n",
       "    </tr>\n",
       "    <tr>\n",
       "      <th>4</th>\n",
       "      <td>development-5</td>\n",
       "      <td>Her Santa Fe Opera debut in 2005 was as Nuria ...</td>\n",
       "      <td>She</td>\n",
       "      <td>437</td>\n",
       "      <td>Kitty Oppenheimer</td>\n",
       "      <td>219</td>\n",
       "      <td>Rivera</td>\n",
       "      <td>294</td>\n",
       "      <td>http://en.wikipedia.org/wiki/Jessica_Rivera</td>\n",
       "    </tr>\n",
       "  </tbody>\n",
       "</table>\n",
       "</div>"
      ],
      "text/plain": [
       "              ID                                               Text Pronoun  \\\n",
       "0  development-1  Zoe Telford -- played the police officer girlf...     her   \n",
       "1  development-2  He grew up in Evanston, Illinois the second ol...     His   \n",
       "2  development-3  He had been reelected to Congress, but resigne...     his   \n",
       "3  development-4  The current members of Crime have also perform...     his   \n",
       "4  development-5  Her Santa Fe Opera debut in 2005 was as Nuria ...     She   \n",
       "\n",
       "   Pronoun-offset                  A  A-offset                B  B-offset  \\\n",
       "0             274     Cheryl Cassidy       191          Pauline       207   \n",
       "1             284          MacKenzie       228    Bernard Leach       251   \n",
       "2             265            Angeloz       173       De la Sota       246   \n",
       "3             321               Hell       174  Henry Rosenthal       336   \n",
       "4             437  Kitty Oppenheimer       219           Rivera       294   \n",
       "\n",
       "                                                 URL  \n",
       "0  http://en.wikipedia.org/wiki/List_of_Teachers_...  \n",
       "1      http://en.wikipedia.org/wiki/Warren_MacKenzie  \n",
       "2  http://en.wikipedia.org/wiki/Jos%C3%A9_Manuel_...  \n",
       "3          http://en.wikipedia.org/wiki/Crime_(band)  \n",
       "4        http://en.wikipedia.org/wiki/Jessica_Rivera  "
      ]
     },
     "execution_count": 14,
     "metadata": {},
     "output_type": "execute_result"
    }
   ],
   "source": [
    "data = pd.read_csv('data/gendered-pronoun-resolution/test_stage_1.tsv', sep = '\\t')\n",
    "data.head()"
   ]
  },
  {
   "cell_type": "code",
   "execution_count": 49,
   "metadata": {},
   "outputs": [],
   "source": [
    "text = data['Text'][0]\n"
   ]
  },
  {
   "cell_type": "code",
   "execution_count": 54,
   "metadata": {},
   "outputs": [],
   "source": [
    "#text = 'This is the first sentence. This is the second sentence.'\n",
    "prediction = predictor.predict(\n",
    "  document=text\n",
    ")"
   ]
  },
  {
   "cell_type": "code",
   "execution_count": 55,
   "metadata": {},
   "outputs": [
    {
     "data": {
      "text/plain": [
       "['top_spans', 'predicted_antecedents', 'document', 'clusters']"
      ]
     },
     "execution_count": 55,
     "metadata": {},
     "output_type": "execute_result"
    }
   ],
   "source": [
    "[key for key in prediction]"
   ]
  },
  {
   "cell_type": "code",
   "execution_count": 72,
   "metadata": {},
   "outputs": [
    {
     "name": "stdout",
     "output_type": "stream",
     "text": [
      " Zoe Telford -- played \u001b[5m\u001b[7m\u001b[31mthe\u001b[0m\u001b[5m\u001b[7m\u001b[31m \u001b[0m\u001b[5m\u001b[7m\u001b[31mpolice\u001b[0m\u001b[5m\u001b[7m\u001b[31m \u001b[0m\u001b[5m\u001b[7m\u001b[31mofficer\u001b[0m\u001b[5m\u001b[7m\u001b[31m \u001b[0m\u001b[5m\u001b[7m\u001b[31mgirlfriend\u001b[0m\u001b[5m\u001b[7m\u001b[31m \u001b[0m\u001b[5m\u001b[7m\u001b[31mof\u001b[0m\u001b[5m\u001b[7m\u001b[31m \u001b[0m\u001b[5m\u001b[7m\u001b[31mSimon\u001b[0m\u001b[5m\u001b[7m\u001b[31m \u001b[0m\u001b[5m\u001b[7m\u001b[31m,\u001b[0m\u001b[5m\u001b[7m\u001b[31m \u001b[0m\u001b[5m\u001b[7m\u001b[31mMaggie\u001b[0m . \u001b[5m\u001b[7m\u001b[32mDumped\u001b[0m by \u001b[5m\u001b[7m\u001b[36mSimon\u001b[0m in \u001b[5m\u001b[7m\u001b[33mthe\u001b[0m\u001b[5m\u001b[7m\u001b[33m \u001b[0m\u001b[5m\u001b[7m\u001b[33mfinal\u001b[0m\u001b[5m\u001b[7m\u001b[33m \u001b[0m\u001b[5m\u001b[7m\u001b[33mepisode\u001b[0m\u001b[5m\u001b[7m\u001b[33m \u001b[0m\u001b[5m\u001b[7m\u001b[33mof\u001b[0m\u001b[5m\u001b[7m\u001b[33m \u001b[0m\u001b[5m\u001b[7m\u001b[33mseries\u001b[0m\u001b[5m\u001b[7m\u001b[33m \u001b[0m\u001b[5m\u001b[7m\u001b[33m1\u001b[0m , after \u001b[5m\u001b[7m\u001b[34mhe\u001b[0m \u001b[5m\u001b[7m\u001b[32mslept\u001b[0m with \u001b[5m\u001b[7m\u001b[36mJenny\u001b[0m , and is not seen again . \u001b[5m\u001b[7m\u001b[33mPhoebe\u001b[0m\u001b[5m\u001b[7m\u001b[33m \u001b[0m\u001b[5m\u001b[7m\u001b[33mThomas\u001b[0m \u001b[5m\u001b[7m\u001b[31mplayed\u001b[0m \u001b[5m\u001b[7m\u001b[32mCheryl\u001b[0m\u001b[5m\u001b[7m\u001b[32m \u001b[0m\u001b[5m\u001b[7m\u001b[32mCassidy\u001b[0m\u001b[5m\u001b[7m\u001b[32m \u001b[0m\u001b[5m\u001b[7m\u001b[32m,\u001b[0m\u001b[5m\u001b[7m\u001b[32m \u001b[0m\u001b[5m\u001b[7m\u001b[32mPauline\u001b[0m\u001b[5m\u001b[7m\u001b[32m \u001b[0m\u001b[5m\u001b[7m\u001b[32m's\u001b[0m\u001b[5m\u001b[7m\u001b[32m \u001b[0m\u001b[5m\u001b[7m\u001b[32mfriend\u001b[0m and also \u001b[5m\u001b[7m\u001b[31ma\u001b[0m\u001b[5m\u001b[7m\u001b[31m \u001b[0m\u001b[5m\u001b[7m\u001b[31myear\u001b[0m\u001b[5m\u001b[7m\u001b[31m \u001b[0m\u001b[5m\u001b[7m\u001b[31m11\u001b[0m\u001b[5m\u001b[7m\u001b[31m \u001b[0m\u001b[5m\u001b[7m\u001b[31mpupil\u001b[0m\u001b[5m\u001b[7m\u001b[31m \u001b[0m\u001b[5m\u001b[7m\u001b[31min\u001b[0m\u001b[5m\u001b[7m\u001b[31m \u001b[0m\u001b[5m\u001b[7m\u001b[31mSimon\u001b[0m\u001b[5m\u001b[7m\u001b[31m \u001b[0m\u001b[5m\u001b[7m\u001b[31m's\u001b[0m\u001b[5m\u001b[7m\u001b[31m \u001b[0m\u001b[5m\u001b[7m\u001b[31mclass\u001b[0m . \u001b[5m\u001b[7m\u001b[36mDumped\u001b[0m \u001b[5m\u001b[7m\u001b[34mher\u001b[0m\u001b[5m\u001b[7m\u001b[34m \u001b[0m\u001b[5m\u001b[7m\u001b[34mboyfriend\u001b[0m\u001b[5m\u001b[7m\u001b[34m \u001b[0m\u001b[5m\u001b[7m\u001b[34mfollowing\u001b[0m\u001b[5m\u001b[7m\u001b[34m \u001b[0m\u001b[5m\u001b[7m\u001b[34mSimon\u001b[0m\u001b[5m\u001b[7m\u001b[34m \u001b[0m\u001b[5m\u001b[7m\u001b[34m's\u001b[0m\u001b[5m\u001b[7m\u001b[34m \u001b[0m\u001b[5m\u001b[7m\u001b[34madvice\u001b[0m \u001b[5m\u001b[7m\u001b[33mafter\u001b[0m \u001b[5m\u001b[7m\u001b[31mhe\u001b[0m would n't have \u001b[5m\u001b[7m\u001b[34msex\u001b[0m with \u001b[5m\u001b[7m\u001b[32mher\u001b[0m but later \u001b[5m\u001b[7m\u001b[36mrealised\u001b[0m \u001b[5m\u001b[7m\u001b[33mthis\u001b[0m was due to \u001b[5m\u001b[7m\u001b[31mhim\u001b[0m \u001b[5m\u001b[7m\u001b[34mcatching\u001b[0m crabs off \u001b[5m\u001b[7m\u001b[36mher\u001b[0m\u001b[5m\u001b[7m\u001b[36m \u001b[0m\u001b[5m\u001b[7m\u001b[36mfriend\u001b[0m\u001b[5m\u001b[7m\u001b[36m \u001b[0m\u001b[5m\u001b[7m\u001b[36mPauline\u001b[0m .\n"
     ]
    }
   ],
   "source": [
    "def check_in_top_span(i, top_spans):\n",
    "    return_values = False, -1\n",
    "    span = []\n",
    "    for num, top_span in enumerate(top_spans):\n",
    "        \n",
    "        if i >= top_span[0] and i <= top_span[1]:\n",
    "            if return_values[0]:\n",
    "                # If sequence are overlapping, we only show the longest\n",
    "                if span[1] - span[0] < top_span[1] - top_span[0]:\n",
    "                    span = top_span\n",
    "                    return_values = True, num\n",
    "            else:\n",
    "                span = top_span\n",
    "                return_values = True, num\n",
    "        \n",
    "    return return_values\n",
    "\n",
    "def show_top_spans(prediction, text):\n",
    "    tokens = word_tokenize(text)\n",
    "\n",
    "    std_out = ''\n",
    "    prev_top_span = -1\n",
    "    colors = ['red', 'blue','green', 'cyan', 'yellow']\n",
    "    for i, token in enumerate(tokens):\n",
    "                                   \n",
    "        in_top_span, num = check_in_top_span(i, prediction['top_spans'])\n",
    "        if in_top_span:\n",
    "            if prev_top_span == num:\n",
    "                std_out += colored(' ', colors[num%len(colors)], attrs=['reverse', 'blink'])\n",
    "            else:\n",
    "                std_out += ' '\n",
    "            std_out += colored(token, colors[num%len(colors)], attrs=['reverse', 'blink'])\n",
    "            prev_top_span = num\n",
    "        else:\n",
    "            std_out += ' '\n",
    "            std_out += token\n",
    "            prev_top_span = -1\n",
    "\n",
    "    print(std_out)\n",
    "    \n",
    "show_top_spans(prediction, text)"
   ]
  },
  {
   "cell_type": "code",
   "execution_count": 73,
   "metadata": {},
   "outputs": [
    {
     "name": "stdout",
     "output_type": "stream",
     "text": [
      " Zoe Telford -- played \u001b[5m\u001b[7m\u001b[34mthe\u001b[0m\u001b[5m\u001b[7m\u001b[34m \u001b[0m\u001b[5m\u001b[7m\u001b[34mpolice\u001b[0m\u001b[5m\u001b[7m\u001b[34m \u001b[0m\u001b[5m\u001b[7m\u001b[34mofficer\u001b[0m\u001b[5m\u001b[7m\u001b[34m \u001b[0m\u001b[5m\u001b[7m\u001b[34mgirlfriend\u001b[0m\u001b[5m\u001b[7m\u001b[34m \u001b[0m\u001b[5m\u001b[7m\u001b[34mof\u001b[0m \u001b[5m\u001b[7m\u001b[31mSimon\u001b[0m\u001b[5m\u001b[7m\u001b[31m \u001b[0m\u001b[5m\u001b[7m\u001b[31m,\u001b[0m\u001b[5m\u001b[7m\u001b[31m \u001b[0m\u001b[5m\u001b[7m\u001b[31mMaggie\u001b[0m . Dumped by \u001b[5m\u001b[7m\u001b[31mSimon\u001b[0m in the final episode of series 1 , after \u001b[5m\u001b[7m\u001b[34mhe\u001b[0m slept with Jenny , and is not seen again . \u001b[5m\u001b[7m\u001b[32mPhoebe\u001b[0m\u001b[5m\u001b[7m\u001b[32m \u001b[0m\u001b[5m\u001b[7m\u001b[32mThomas\u001b[0m played \u001b[5m\u001b[7m\u001b[36mCheryl\u001b[0m\u001b[5m\u001b[7m\u001b[36m \u001b[0m\u001b[5m\u001b[7m\u001b[36mCassidy\u001b[0m\u001b[5m\u001b[7m\u001b[36m \u001b[0m\u001b[5m\u001b[7m\u001b[36m,\u001b[0m\u001b[5m\u001b[7m\u001b[36m \u001b[0m\u001b[5m\u001b[7m\u001b[36mPauline\u001b[0m\u001b[5m\u001b[7m\u001b[36m \u001b[0m\u001b[5m\u001b[7m\u001b[36m's\u001b[0m\u001b[5m\u001b[7m\u001b[36m \u001b[0m\u001b[5m\u001b[7m\u001b[36mfriend\u001b[0m and also a year 11 pupil in \u001b[5m\u001b[7m\u001b[31mSimon\u001b[0m\u001b[5m\u001b[7m\u001b[31m \u001b[0m\u001b[5m\u001b[7m\u001b[31m's\u001b[0m class . Dumped \u001b[5m\u001b[7m\u001b[32mher\u001b[0m boyfriend following \u001b[5m\u001b[7m\u001b[31mSimon\u001b[0m\u001b[5m\u001b[7m\u001b[31m \u001b[0m\u001b[5m\u001b[7m\u001b[31m's\u001b[0m advice after \u001b[5m\u001b[7m\u001b[31mhe\u001b[0m would n't have sex with \u001b[5m\u001b[7m\u001b[32mher\u001b[0m but later realised this was due to \u001b[5m\u001b[7m\u001b[31mhim\u001b[0m catching crabs off \u001b[5m\u001b[7m\u001b[32mher\u001b[0m \u001b[5m\u001b[7m\u001b[36mfriend\u001b[0m\u001b[5m\u001b[7m\u001b[36m \u001b[0m\u001b[5m\u001b[7m\u001b[36mPauline\u001b[0m .\n"
     ]
    }
   ],
   "source": [
    "def check_in_cluster(i, clusters):\n",
    "    \n",
    "    for c, cluster in enumerate(clusters):\n",
    "        for span in cluster:\n",
    "            if i >= span[0] and i <= span[1]:\n",
    "                return True, c\n",
    "    \n",
    "    return False, -1\n",
    "        \n",
    "\n",
    "def show_predicted_clusters(prediction, text):\n",
    "    tokens = word_tokenize(text)\n",
    "\n",
    "    std_out = ''\n",
    "    colors = ['red', 'blue','green', 'cyan', 'yellow','black']\n",
    "    prev_cluster  =-1\n",
    "    for i, token in enumerate(tokens):\n",
    "\n",
    "        in_predicted_cluster, num = check_in_cluster(i, prediction['clusters'])\n",
    "        if in_predicted_cluster:\n",
    "            if prev_cluster == num:\n",
    "                std_out += colored(' ', colors[num%len(colors)], attrs=['reverse', 'blink'])\n",
    "            else: \n",
    "                std_out += ' '\n",
    "            std_out += colored(token, colors[num%len(colors)], attrs=['reverse', 'blink'])\n",
    "            prev_cluster = num\n",
    "        else:\n",
    "            std_out += ' '\n",
    "            std_out += token\n",
    "            prev_cluster = -1\n",
    "\n",
    "    print(std_out)\n",
    "    \n",
    "show_predicted_clusters(prediction, text)"
   ]
  },
  {
   "cell_type": "code",
   "execution_count": null,
   "metadata": {},
   "outputs": [],
   "source": []
  }
 ],
 "metadata": {
  "kernelspec": {
   "display_name": "neuralcoref",
   "language": "python",
   "name": "neuralcoref"
  },
  "language_info": {
   "codemirror_mode": {
    "name": "ipython",
    "version": 3
   },
   "file_extension": ".py",
   "mimetype": "text/x-python",
   "name": "python",
   "nbconvert_exporter": "python",
   "pygments_lexer": "ipython3",
   "version": "3.6.1"
  }
 },
 "nbformat": 4,
 "nbformat_minor": 2
}
