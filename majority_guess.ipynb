{
 "cells": [
  {
   "cell_type": "code",
   "execution_count": 1,
   "metadata": {},
   "outputs": [],
   "source": [
    "import pandas as pd\n",
    "import numpy as np\n",
    "from math import log\n",
    "from calculatescore import calculate_score, evaluate, eval_gender"
   ]
  },
  {
   "cell_type": "code",
   "execution_count": 2,
   "metadata": {},
   "outputs": [],
   "source": [
    "# Random guess\n",
    "data = np.zeros((2000,3),dtype=int)\n",
    "data[:,0] = np.ones((2000),dtype=int) # always guess on A\n",
    "predictions = pd.DataFrame(data, columns=['A','B','NEITHER'])\n",
    "predictions.to_csv('data/predictions_majority_vote1.csv')\n"
   ]
  },
  {
   "cell_type": "code",
   "execution_count": 4,
   "metadata": {},
   "outputs": [
    {
     "data": {
      "text/plain": [
       "18.14897570297908"
      ]
     },
     "execution_count": 4,
     "metadata": {},
     "output_type": "execute_result"
    }
   ],
   "source": [
    "calculate_score('data/right_answers.csv','data/predictions_majority_vote1.csv')"
   ]
  },
  {
   "cell_type": "code",
   "execution_count": 6,
   "metadata": {},
   "outputs": [
    {
     "name": "stdout",
     "output_type": "stream",
     "text": [
      "[0.437 0.    0.   ] [1. 0. 0.] [0.60821155 0.         0.        ]\n"
     ]
    }
   ],
   "source": [
    "precision, recall, f1 = evaluate('data/right_answers.csv', 'data/predictions_majority_vote1.csv')\n",
    "# Run twice to avoid error\n",
    "print(precision, recall, f1)"
   ]
  },
  {
   "cell_type": "code",
   "execution_count": 18,
   "metadata": {},
   "outputs": [],
   "source": [
    "# Gold path\n",
    "path_gold = 'data/right_answers.csv'\n",
    "\n",
    "# Path full data #\n",
    "path_full = 'data/gendered-pronoun-resolution/test_stage_1.tsv'\n",
    "df = pd.read_csv(path_full, sep = '\\t', index_col = 0) \n",
    "\n",
    "# Always predict A\n",
    "predictions = pd.DataFrame(data, columns=['A','B','NEITHER'], index = list(df.index))\n",
    "predictions.to_csv('data/predictions_majority_vote2.csv')\n",
    "path_pred = 'data/predictions_majority_vote2.csv'\n"
   ]
  },
  {
   "cell_type": "code",
   "execution_count": 20,
   "metadata": {},
   "outputs": [
    {
     "name": "stdout",
     "output_type": "stream",
     "text": [
      "Male precision: A = 0.438, B = 0.0, Neither = 0.0\n",
      "Male recall: A = 1.0, B = 0.0, Neither = 0.0\n",
      "Male F1: A = 0.6092, B = 0.0, Neither = 0.0 \n",
      "\n",
      "Female precision: A = 0.436, B = 0.0, Neither = 0.0\n",
      "Female recall: A = 1.0, B = 0.0, Neither = 0.0\n",
      "Female F1: A = 0.6072, B = 0.0, Neither = 0.0\n"
     ]
    }
   ],
   "source": [
    "male_sc, female_sc = eval_gender(path_gold, path_pred, path_full)"
   ]
  },
  {
   "cell_type": "code",
   "execution_count": null,
   "metadata": {},
   "outputs": [],
   "source": []
  }
 ],
 "metadata": {
  "kernelspec": {
   "display_name": "neuralcoref",
   "language": "python",
   "name": "neuralcoref"
  },
  "language_info": {
   "codemirror_mode": {
    "name": "ipython",
    "version": 3
   },
   "file_extension": ".py",
   "mimetype": "text/x-python",
   "name": "python",
   "nbconvert_exporter": "python",
   "pygments_lexer": "ipython3",
   "version": "3.6.1"
  }
 },
 "nbformat": 4,
 "nbformat_minor": 2
}
